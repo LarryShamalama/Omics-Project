{
 "cells": [
  {
   "cell_type": "markdown",
   "metadata": {},
   "source": [
    "## `filter-data.ipynb`\n",
    "\n",
    "The purpose of this Jupyter notebook is to produce 3 .csv files where:\n",
    "- non-sequenced sample information are to be discarded\n",
    "- patients without any sequenced samples are to be discarded as well\n",
    "\n",
    "The .csv file will be outputted after running this entire script/notebook. You can do so by clicking `Kernel` $\\rightarrow$ `Restart & Run All` in the menu above."
   ]
  },
  {
   "cell_type": "code",
   "execution_count": 1,
   "metadata": {
    "scrolled": true
   },
   "outputs": [],
   "source": [
    "import numpy as np\n",
    "import pandas as pd\n",
    "import matplotlib.pyplot as plt\n",
    "\n",
    "import os, time\n",
    "\n",
    "%matplotlib inline\n",
    "%config InlineBackend.figure_format = 'retina'\n",
    "plt.style.use('seaborn-darkgrid')"
   ]
  },
  {
   "cell_type": "markdown",
   "metadata": {},
   "source": [
    "#### Creation of  `filter-data` folder"
   ]
  },
  {
   "cell_type": "code",
   "execution_count": 2,
   "metadata": {
    "scrolled": true
   },
   "outputs": [
    {
     "name": "stdout",
     "output_type": "stream",
     "text": [
      "Folder already exists!\n"
     ]
    }
   ],
   "source": [
    "try:\n",
    "    os.mkdir('../filter-data')\n",
    "    print('Folder \\'filter-data\\' created!')\n",
    "except FileExistsError as e:\n",
    "    print('Folder already exists!')"
   ]
  },
  {
   "cell_type": "markdown",
   "metadata": {},
   "source": [
    "#### Loading data"
   ]
  },
  {
   "cell_type": "markdown",
   "metadata": {},
   "source": [
    "- `data1`: sample characteristics\n",
    "- `data2`: patient information\n",
    "- `norm_data`: transcriptome gene expression"
   ]
  },
  {
   "cell_type": "code",
   "execution_count": 3,
   "metadata": {
    "scrolled": true
   },
   "outputs": [],
   "source": [
    "data1 = pd.read_csv('../data/M2PHDS_19-20_OMICS_CLIN_DATA_MAARS_all_Fri_Apr_04_14h_CEST_2014.csv', sep='\\t')\n",
    "data2 = pd.read_csv('../data/M2PHDS_19-20_OMICS_CLIN_DATA_MAARS_AD_full_20190131_12-34-49.csv', sep='\\t')\n",
    "norm_data = pd.read_csv('../data/M2PHDS_19-20_OMICS_TRANSC_MAARS_normTranscriptome_618samples_16042014.txt', sep='\\t')"
   ]
  },
  {
   "cell_type": "markdown",
   "metadata": {},
   "source": [
    "Verifying if all sequences have characteristics in the `data1` DataFrame."
   ]
  },
  {
   "cell_type": "code",
   "execution_count": 4,
   "metadata": {},
   "outputs": [
    {
     "data": {
      "text/plain": [
       "True"
      ]
     },
     "execution_count": 4,
     "metadata": {},
     "output_type": "execute_result"
    }
   ],
   "source": [
    "all(s in data1['sample_id'].to_list() for s in list(norm_data))"
   ]
  },
  {
   "cell_type": "code",
   "execution_count": 5,
   "metadata": {
    "scrolled": true
   },
   "outputs": [
    {
     "name": "stdout",
     "output_type": "stream",
     "text": [
      "Proportion of samples that have been sequenced: 46.92%\n"
     ]
    }
   ],
   "source": [
    "sequenced_samples = data1[[sample_id in list(norm_data) for sample_id in data1['sample_id'].to_list()]]\n",
    "print('Proportion of samples that have been sequenced: {}%'.format(np.around(len(sequenced_samples)*100/len(data1), 2)))"
   ]
  },
  {
   "cell_type": "markdown",
   "metadata": {},
   "source": [
    "#### Generating new files"
   ]
  },
  {
   "cell_type": "code",
   "execution_count": 6,
   "metadata": {},
   "outputs": [],
   "source": [
    "sequenced_patients = data2[[s in sequenced_samples['MAARS_identifier'].to_list() for s in data2['patient#Identification#MAARS identifier (MAARS_identifier)'].to_list()]]"
   ]
  },
  {
   "cell_type": "code",
   "execution_count": 7,
   "metadata": {},
   "outputs": [],
   "source": [
    "sequenced_samples.to_csv('../filter-data/all.csv', index=False)\n",
    "sequenced_patients.to_csv('../filter-data/ad_full.csv', index=False)\n",
    "norm_data.T.to_csv('../filter-data/transcriptome.csv', index=[s[:-3] for s in norm_data.index])"
   ]
  },
  {
   "cell_type": "markdown",
   "metadata": {},
   "source": [
    "Discarding lesional samples from patients with psoriasis "
   ]
  },
  {
   "cell_type": "code",
   "execution_count": 8,
   "metadata": {},
   "outputs": [],
   "source": [
    "not_pso_les = sequenced_samples[[not (a and b) for (a, b) in zip(sequenced_samples['clinical_group'] == 'PSO', sequenced_samples['lesional'] == 'LES')]]['sample_id']\n",
    "norm_data2 = norm_data.iloc[:, [i for i, s in enumerate(list(norm_data)) if s in not_pso_les.to_list()]]\n",
    "norm_data2.T.to_csv('../filter-data/transcriptome2.csv', index=[s[:-3] for s in norm_data.index])"
   ]
  },
  {
   "cell_type": "code",
   "execution_count": 9,
   "metadata": {},
   "outputs": [],
   "source": [
    "sequenced_samples[[not (a and b) for (a, b) in zip(sequenced_samples['clinical_group'] == 'PSO', sequenced_samples['lesional'] == 'LES')]].to_csv('../filter-data/all2.csv', index=False)"
   ]
  },
  {
   "cell_type": "code",
   "execution_count": null,
   "metadata": {},
   "outputs": [],
   "source": []
  }
 ],
 "metadata": {
  "kernelspec": {
   "display_name": "ml",
   "language": "python",
   "name": "ml"
  },
  "language_info": {
   "codemirror_mode": {
    "name": "ipython",
    "version": 3
   },
   "file_extension": ".py",
   "mimetype": "text/x-python",
   "name": "python",
   "nbconvert_exporter": "python",
   "pygments_lexer": "ipython3",
   "version": "3.6.8"
  }
 },
 "nbformat": 4,
 "nbformat_minor": 2
}

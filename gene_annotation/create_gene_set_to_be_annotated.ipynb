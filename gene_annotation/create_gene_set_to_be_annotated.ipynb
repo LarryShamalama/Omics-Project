{
 "cells": [
  {
   "cell_type": "code",
   "execution_count": 1,
   "metadata": {},
   "outputs": [],
   "source": [
    "import numpy as np\n",
    "import pandas as pd\n",
    "import matplotlib.pyplot as plt\n",
    "\n",
    "import os, time\n",
    "\n",
    "%matplotlib inline\n",
    "%config InlineBackend.figure_format = 'retina'\n",
    "plt.style.use('seaborn-darkgrid')"
   ]
  },
  {
   "cell_type": "markdown",
   "metadata": {},
   "source": [
    "### Genes selected by DGE\n",
    "Source file: `../genelist.txt`"
   ]
  },
  {
   "cell_type": "code",
   "execution_count": 2,
   "metadata": {},
   "outputs": [
    {
     "name": "stdout",
     "output_type": "stream",
     "text": [
      "Total number of genes: 81 \n",
      "\n",
      "ENSG00000199004\n",
      "ENSG00000198074\n",
      "ENSG00000163220\n",
      "ENSG00000188373\n",
      "ENSG00000137648\n",
      "ENSG00000185962\n",
      "ENSG00000041982\n",
      "ENSG00000186832\n",
      "ENSG00000184330\n",
      "ENSG00000163221\n",
      "ENSG00000168490\n",
      "ENSG00000007908\n",
      "ENSG00000197641\n",
      "ENSG00000124102\n",
      "ENSG00000025708\n",
      "ENSG00000185966\n",
      "ENSG00000148798\n",
      "ENSG00000205420\n",
      "ENSG00000134827\n",
      "ENSG00000238460\n",
      "ENSG00000188293\n",
      "ENSG00000057149\n",
      "ENSG00000090104\n",
      "ENSG00000163202\n",
      "ENSG00000138135\n",
      "ENSG00000172382\n",
      "ENSG00000165474\n",
      "ENSG00000162040\n",
      "ENSG00000170465\n",
      "ENSG00000236543\n",
      "ENSG00000184557\n",
      "ENSG00000227471\n",
      "ENSG00000213022\n",
      "ENSG00000171208\n",
      "ENSG00000226005\n",
      "ENSG00000206073\n",
      "ENSG00000181333\n",
      "ENSG00000136688\n",
      "ENSG00000169469\n",
      "ENSG00000143546\n",
      "ENSG00000174808\n",
      "ENSG00000012223\n",
      "ENSG00000108691\n",
      "ENSG00000189182\n",
      "ENSG00000121742\n",
      "ENSG00000227300\n",
      "ENSG00000109906\n",
      "ENSG00000169213\n",
      "ENSG00000159337\n",
      "ENSG00000196805\n",
      "ENSG00000117594\n",
      "ENSG00000110347\n",
      "ENSG00000196611\n",
      "ENSG00000168671\n",
      "ENSG00000125571\n",
      "ENSG00000137558\n",
      "ENSG00000196616\n",
      "ENSG00000175592\n",
      "ENSG00000248329\n",
      "ENSG00000206384\n",
      "ENSG00000103569\n",
      "ENSG00000169474\n",
      "ENSG00000153802\n",
      "ENSG00000172752\n",
      "ENSG00000171711\n",
      "ENSG00000136694\n",
      "ENSG00000182585\n",
      "ENSG00000172724\n",
      "ENSG00000134028\n",
      "ENSG00000200972\n",
      "ENSG00000006074\n",
      "ENSG00000169429\n",
      "ENSG00000102962\n",
      "ENSG00000185479\n",
      "ENSG00000156076\n",
      "ENSG00000101670\n",
      "ENSG00000167755\n",
      "ENSG00000075673\n",
      "ENSG00000169245\n",
      "ENSG00000138755\n",
      "ENSG00000184210\n"
     ]
    }
   ],
   "source": [
    "with open('../genelist.txt') as file:\n",
    "    content   = file.readlines()\n",
    "    genes_dge = []\n",
    "    print('Total number of genes:', len(content), '\\n')\n",
    "    \n",
    "    for line in content:\n",
    "        genes_dge.append(line[:-1])\n",
    "        print(line[:-1]) # remove spacing"
   ]
  },
  {
   "cell_type": "markdown",
   "metadata": {},
   "source": [
    "### Genes selected by sPLS"
   ]
  },
  {
   "cell_type": "code",
   "execution_count": 3,
   "metadata": {},
   "outputs": [
    {
     "name": "stdout",
     "output_type": "stream",
     "text": [
      "Total number of genes: 42 \n",
      "\n",
      "ENSG00000241295\n",
      "ENSG00000250538\n",
      "ENSG00000056291\n",
      "ENSG00000057593\n",
      "ENSG00000126456\n",
      "ENSG00000206561\n",
      "ENSG00000234222\n",
      "ENSG00000253163\n",
      "ENSG00000222040\n",
      "ENSG00000225545\n",
      "ENSG00000128040\n",
      "ENSG00000227282\n",
      "ENSG00000135314\n",
      "ENSG00000147059\n",
      "ENSG00000229458\n",
      "ENSG00000260440\n",
      "ENSG00000221423\n",
      "ENSG00000228010\n",
      "ENSG00000028839\n",
      "ENSG00000255208\n",
      "ENSG00000172969\n",
      "ENSG00000205837\n",
      "ENSG00000057149\n",
      "ENSG00000062038\n",
      "ENSG00000079482\n",
      "ENSG00000124102\n",
      "ENSG00000131018\n",
      "ENSG00000139629\n",
      "ENSG00000141543\n",
      "ENSG00000163220\n",
      "ENSG00000163221\n",
      "ENSG00000165474\n",
      "ENSG00000170465\n",
      "ENSG00000172382\n",
      "ENSG00000182481\n",
      "ENSG00000184330\n",
      "ENSG00000185962\n",
      "ENSG00000186832\n",
      "ENSG00000188293\n",
      "ENSG00000198074\n",
      "ENSG00000205420\n",
      "ENSG00000235257\n"
     ]
    }
   ],
   "source": [
    "with open('../genelist_spls_Mfold.txt') as file2:\n",
    "    content2   = file2.readlines()[1:] # first line is \"x\"\n",
    "    genes_spls = []\n",
    "    \n",
    "    print('Total number of genes:', len(content2), '\\n')\n",
    "    \n",
    "    for line in content2:\n",
    "        print('ENSG' + line.split('ENSG')[1].split('_at')[0]) # remove spacing\n",
    "        genes_spls.append('ENSG' + line.split('ENSG')[1].split('_at')[0])"
   ]
  },
  {
   "cell_type": "code",
   "execution_count": 4,
   "metadata": {},
   "outputs": [],
   "source": [
    "common_genes = list(set(genes_spls).intersection(set(genes_dge)))\n",
    "only_spls    = list(set(genes_spls).difference(common_genes))\n",
    "only_dge     = list(set(genes_dge).difference(common_genes))"
   ]
  },
  {
   "cell_type": "code",
   "execution_count": 5,
   "metadata": {},
   "outputs": [
    {
     "name": "stdout",
     "output_type": "stream",
     "text": [
      "['ENSG00000188293', 'ENSG00000163220', 'ENSG00000184330', 'ENSG00000185962', 'ENSG00000172382', 'ENSG00000186832', 'ENSG00000163221', 'ENSG00000170465', 'ENSG00000205420', 'ENSG00000165474', 'ENSG00000057149', 'ENSG00000124102', 'ENSG00000198074']\n"
     ]
    }
   ],
   "source": [
    "print(common_genes)"
   ]
  },
  {
   "cell_type": "code",
   "execution_count": 6,
   "metadata": {},
   "outputs": [],
   "source": [
    "csv_contents = []\n",
    "\n",
    "for i in range(max(len(common_genes), len(only_dge), len(only_spls))):\n",
    "    try:\n",
    "        a = common_genes[i]\n",
    "    except Exception as e:\n",
    "        a = ' '\n",
    "    \n",
    "    try:\n",
    "        b = only_dge[i]\n",
    "    except Exception as e:\n",
    "        b = ' '\n",
    "        \n",
    "    try:\n",
    "        c = only_spls[i]\n",
    "    except Exception as e:\n",
    "        c = ' '\n",
    "        \n",
    "    csv_contents.append([a, b, c])"
   ]
  },
  {
   "cell_type": "code",
   "execution_count": 7,
   "metadata": {},
   "outputs": [],
   "source": [
    "#pd.DataFrame(csv_contents, columns=['Common genes', 'Obtained by DGE', 'Obtained by sPLS']).to_csv('selected_genes.csv', index=False)"
   ]
  },
  {
   "cell_type": "code",
   "execution_count": null,
   "metadata": {},
   "outputs": [],
   "source": []
  }
 ],
 "metadata": {
  "kernelspec": {
   "display_name": "ml",
   "language": "python",
   "name": "ml"
  },
  "language_info": {
   "codemirror_mode": {
    "name": "ipython",
    "version": 3
   },
   "file_extension": ".py",
   "mimetype": "text/x-python",
   "name": "python",
   "nbconvert_exporter": "python",
   "pygments_lexer": "ipython3",
   "version": "3.6.8"
  }
 },
 "nbformat": 4,
 "nbformat_minor": 2
}
